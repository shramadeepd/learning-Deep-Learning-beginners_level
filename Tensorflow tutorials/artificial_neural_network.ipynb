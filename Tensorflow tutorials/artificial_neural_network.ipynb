{
 "cells": [
  {
   "cell_type": "markdown",
   "metadata": {},
   "source": [
    "Data loading"
   ]
  },
  {
   "cell_type": "code",
   "execution_count": 2,
   "metadata": {},
   "outputs": [],
   "source": [
    "#importing dependecies\n",
    "import numpy as np \n",
    "from random import randint\n",
    "from sklearn.utils import shuffle\n",
    "from sklearn.preprocessing import MinMaxScaler"
   ]
  },
  {
   "cell_type": "code",
   "execution_count": 3,
   "metadata": {},
   "outputs": [],
   "source": [
    "train_labels = []\n",
    "train_samples = []"
   ]
  },
  {
   "cell_type": "code",
   "execution_count": 4,
   "metadata": {},
   "outputs": [],
   "source": [
    "#generating a random data\n",
    "\n",
    "for i in range(50):\n",
    "    random_younger = randint(13,64)\n",
    "    train_samples.append(random_younger)\n",
    "    train_labels.append(1)\n",
    "\n",
    "    random_older = randint(65,100)\n",
    "    train_samples.append(random_older)\n",
    "    train_labels.append(0)\n",
    "\n",
    "for i in range(1000):\n",
    "    random_younger = randint(13,64)\n",
    "    train_samples.append(random_younger)\n",
    "    train_labels.append(0)\n",
    "\n",
    "    random_older = randint(65,100)\n",
    "    train_samples.append(random_older)\n",
    "    train_labels.append(1)\n",
    "\n",
    "    "
   ]
  },
  {
   "cell_type": "code",
   "execution_count": 7,
   "metadata": {},
   "outputs": [
    {
     "name": "stdout",
     "output_type": "stream",
     "text": [
      "37 1\n",
      "90 0\n",
      "44 1\n",
      "99 0\n",
      "24 1\n"
     ]
    }
   ],
   "source": [
    "#check the dataset\n",
    "for i in range(len(train_samples[:5])):\n",
    "    print(train_samples[i],train_labels[i])\n"
   ]
  },
  {
   "cell_type": "code",
   "execution_count": 8,
   "metadata": {},
   "outputs": [],
   "source": [
    "train_labels = np.array(train_labels)\n",
    "train_samples = np.array(train_samples)\n",
    "train_labels,train_samples = shuffle(train_labels,train_samples)"
   ]
  },
  {
   "cell_type": "code",
   "execution_count": 9,
   "metadata": {},
   "outputs": [],
   "source": [
    "scaler = MinMaxScaler(feature_range=(0,1))\n",
    "scaled_train_samples = scaler.fit_transform(train_samples.reshape(-1,1))"
   ]
  },
  {
   "cell_type": "code",
   "execution_count": 11,
   "metadata": {},
   "outputs": [
    {
     "name": "stdout",
     "output_type": "stream",
     "text": [
      "[0.87356322] 1\n",
      "[0.48275862] 0\n",
      "[0.02298851] 0\n",
      "[0.66666667] 1\n",
      "[0.20689655] 0\n"
     ]
    }
   ],
   "source": [
    "#check the transformed dataset\n",
    "for i in range(len(train_samples[:5])):\n",
    "    print(scaled_train_samples[i],train_labels[i])"
   ]
  },
  {
   "cell_type": "markdown",
   "metadata": {},
   "source": [
    "\n",
    "\n",
    "Simple tf.keras sequential model\n"
   ]
  },
  {
   "cell_type": "code",
   "execution_count": null,
   "metadata": {},
   "outputs": [
    {
     "name": "stderr",
     "output_type": "stream",
     "text": [
      "UsageError: Line magic function `%source` not found.\n"
     ]
    }
   ],
   "source": [
    "%source -m venv/bin/activate #activatoing venv"
   ]
  },
  {
   "cell_type": "code",
   "execution_count": 12,
   "metadata": {},
   "outputs": [
    {
     "name": "stderr",
     "output_type": "stream",
     "text": [
      "2025-02-19 15:27:30.364161: I tensorflow/core/util/port.cc:153] oneDNN custom operations are on. You may see slightly different numerical results due to floating-point round-off errors from different computation orders. To turn them off, set the environment variable `TF_ENABLE_ONEDNN_OPTS=0`.\n",
      "2025-02-19 15:27:30.371087: E external/local_xla/xla/stream_executor/cuda/cuda_fft.cc:477] Unable to register cuFFT factory: Attempting to register factory for plugin cuFFT when one has already been registered\n",
      "WARNING: All log messages before absl::InitializeLog() is called are written to STDERR\n",
      "E0000 00:00:1739959050.379183  221390 cuda_dnn.cc:8310] Unable to register cuDNN factory: Attempting to register factory for plugin cuDNN when one has already been registered\n",
      "E0000 00:00:1739959050.381686  221390 cuda_blas.cc:1418] Unable to register cuBLAS factory: Attempting to register factory for plugin cuBLAS when one has already been registered\n",
      "2025-02-19 15:27:30.390511: I tensorflow/core/platform/cpu_feature_guard.cc:210] This TensorFlow binary is optimized to use available CPU instructions in performance-critical operations.\n",
      "To enable the following instructions: AVX2 AVX_VNNI FMA, in other operations, rebuild TensorFlow with the appropriate compiler flags.\n"
     ]
    }
   ],
   "source": [
    "import tensorflow as tf \n",
    "from tensorflow import keras\n",
    "from tensorflow.keras.models import Sequential\n",
    "from tensorflow.keras.layers import Activation,Dense\n",
    "from tensorflow.keras.optimizers import Adam\n",
    "from tensorflow.keras.metrics import categorical_crossentropy"
   ]
  },
  {
   "cell_type": "code",
   "execution_count": 13,
   "metadata": {},
   "outputs": [
    {
     "name": "stdout",
     "output_type": "stream",
     "text": [
      "[]\n",
      "Using device: /cpu:0\n"
     ]
    },
    {
     "name": "stderr",
     "output_type": "stream",
     "text": [
      "2025-02-19 15:27:32.361653: E external/local_xla/xla/stream_executor/cuda/cuda_driver.cc:152] failed call to cuInit: INTERNAL: CUDA error: Failed call to cuInit: UNKNOWN ERROR (303)\n"
     ]
    }
   ],
   "source": [
    "if tf.config.list_physical_devices('GPU'): #checks if cuda exists or not \n",
    "    device = '/device:GPU:0'\n",
    "else:\n",
    "    device = '/cpu:0'\n",
    "    # tf.config.experimental.set_memory_growth(device,True)\n",
    "    print(tf.config.list_physical_devices('GPU'))\n",
    "\n",
    "print(f\"Using device: {device}\")"
   ]
  },
  {
   "cell_type": "code",
   "execution_count": 14,
   "metadata": {},
   "outputs": [
    {
     "name": "stderr",
     "output_type": "stream",
     "text": [
      "/home/yupcha/.pyenv/versions/3.11.6/lib/python3.11/site-packages/keras/src/layers/core/dense.py:87: UserWarning: Do not pass an `input_shape`/`input_dim` argument to a layer. When using Sequential models, prefer using an `Input(shape)` object as the first layer in the model instead.\n",
      "  super().__init__(activity_regularizer=activity_regularizer, **kwargs)\n"
     ]
    }
   ],
   "source": [
    "#creating the model with sequential API\n",
    "model = Sequential(\n",
    "    [\n",
    "        Dense(units=16,input_shape=(1,),activation='relu'),\n",
    "        Dense(units=32,activation='relu'),\n",
    "        Dense(units=2,activation='softmax')\n",
    "    ]\n",
    ")"
   ]
  },
  {
   "cell_type": "code",
   "execution_count": 15,
   "metadata": {},
   "outputs": [
    {
     "data": {
      "text/html": [
       "<pre style=\"white-space:pre;overflow-x:auto;line-height:normal;font-family:Menlo,'DejaVu Sans Mono',consolas,'Courier New',monospace\"><span style=\"font-weight: bold\">Model: \"sequential\"</span>\n",
       "</pre>\n"
      ],
      "text/plain": [
       "\u001b[1mModel: \"sequential\"\u001b[0m\n"
      ]
     },
     "metadata": {},
     "output_type": "display_data"
    },
    {
     "data": {
      "text/html": [
       "<pre style=\"white-space:pre;overflow-x:auto;line-height:normal;font-family:Menlo,'DejaVu Sans Mono',consolas,'Courier New',monospace\">┏━━━━━━━━━━━━━━━━━━━━━━━━━━━━━━━━━┳━━━━━━━━━━━━━━━━━━━━━━━━┳━━━━━━━━━━━━━━━┓\n",
       "┃<span style=\"font-weight: bold\"> Layer (type)                    </span>┃<span style=\"font-weight: bold\"> Output Shape           </span>┃<span style=\"font-weight: bold\">       Param # </span>┃\n",
       "┡━━━━━━━━━━━━━━━━━━━━━━━━━━━━━━━━━╇━━━━━━━━━━━━━━━━━━━━━━━━╇━━━━━━━━━━━━━━━┩\n",
       "│ dense (<span style=\"color: #0087ff; text-decoration-color: #0087ff\">Dense</span>)                   │ (<span style=\"color: #00d7ff; text-decoration-color: #00d7ff\">None</span>, <span style=\"color: #00af00; text-decoration-color: #00af00\">16</span>)             │            <span style=\"color: #00af00; text-decoration-color: #00af00\">32</span> │\n",
       "├─────────────────────────────────┼────────────────────────┼───────────────┤\n",
       "│ dense_1 (<span style=\"color: #0087ff; text-decoration-color: #0087ff\">Dense</span>)                 │ (<span style=\"color: #00d7ff; text-decoration-color: #00d7ff\">None</span>, <span style=\"color: #00af00; text-decoration-color: #00af00\">32</span>)             │           <span style=\"color: #00af00; text-decoration-color: #00af00\">544</span> │\n",
       "├─────────────────────────────────┼────────────────────────┼───────────────┤\n",
       "│ dense_2 (<span style=\"color: #0087ff; text-decoration-color: #0087ff\">Dense</span>)                 │ (<span style=\"color: #00d7ff; text-decoration-color: #00d7ff\">None</span>, <span style=\"color: #00af00; text-decoration-color: #00af00\">2</span>)              │            <span style=\"color: #00af00; text-decoration-color: #00af00\">66</span> │\n",
       "└─────────────────────────────────┴────────────────────────┴───────────────┘\n",
       "</pre>\n"
      ],
      "text/plain": [
       "┏━━━━━━━━━━━━━━━━━━━━━━━━━━━━━━━━━┳━━━━━━━━━━━━━━━━━━━━━━━━┳━━━━━━━━━━━━━━━┓\n",
       "┃\u001b[1m \u001b[0m\u001b[1mLayer (type)                   \u001b[0m\u001b[1m \u001b[0m┃\u001b[1m \u001b[0m\u001b[1mOutput Shape          \u001b[0m\u001b[1m \u001b[0m┃\u001b[1m \u001b[0m\u001b[1m      Param #\u001b[0m\u001b[1m \u001b[0m┃\n",
       "┡━━━━━━━━━━━━━━━━━━━━━━━━━━━━━━━━━╇━━━━━━━━━━━━━━━━━━━━━━━━╇━━━━━━━━━━━━━━━┩\n",
       "│ dense (\u001b[38;5;33mDense\u001b[0m)                   │ (\u001b[38;5;45mNone\u001b[0m, \u001b[38;5;34m16\u001b[0m)             │            \u001b[38;5;34m32\u001b[0m │\n",
       "├─────────────────────────────────┼────────────────────────┼───────────────┤\n",
       "│ dense_1 (\u001b[38;5;33mDense\u001b[0m)                 │ (\u001b[38;5;45mNone\u001b[0m, \u001b[38;5;34m32\u001b[0m)             │           \u001b[38;5;34m544\u001b[0m │\n",
       "├─────────────────────────────────┼────────────────────────┼───────────────┤\n",
       "│ dense_2 (\u001b[38;5;33mDense\u001b[0m)                 │ (\u001b[38;5;45mNone\u001b[0m, \u001b[38;5;34m2\u001b[0m)              │            \u001b[38;5;34m66\u001b[0m │\n",
       "└─────────────────────────────────┴────────────────────────┴───────────────┘\n"
      ]
     },
     "metadata": {},
     "output_type": "display_data"
    },
    {
     "data": {
      "text/html": [
       "<pre style=\"white-space:pre;overflow-x:auto;line-height:normal;font-family:Menlo,'DejaVu Sans Mono',consolas,'Courier New',monospace\"><span style=\"font-weight: bold\"> Total params: </span><span style=\"color: #00af00; text-decoration-color: #00af00\">642</span> (2.51 KB)\n",
       "</pre>\n"
      ],
      "text/plain": [
       "\u001b[1m Total params: \u001b[0m\u001b[38;5;34m642\u001b[0m (2.51 KB)\n"
      ]
     },
     "metadata": {},
     "output_type": "display_data"
    },
    {
     "data": {
      "text/html": [
       "<pre style=\"white-space:pre;overflow-x:auto;line-height:normal;font-family:Menlo,'DejaVu Sans Mono',consolas,'Courier New',monospace\"><span style=\"font-weight: bold\"> Trainable params: </span><span style=\"color: #00af00; text-decoration-color: #00af00\">642</span> (2.51 KB)\n",
       "</pre>\n"
      ],
      "text/plain": [
       "\u001b[1m Trainable params: \u001b[0m\u001b[38;5;34m642\u001b[0m (2.51 KB)\n"
      ]
     },
     "metadata": {},
     "output_type": "display_data"
    },
    {
     "data": {
      "text/html": [
       "<pre style=\"white-space:pre;overflow-x:auto;line-height:normal;font-family:Menlo,'DejaVu Sans Mono',consolas,'Courier New',monospace\"><span style=\"font-weight: bold\"> Non-trainable params: </span><span style=\"color: #00af00; text-decoration-color: #00af00\">0</span> (0.00 B)\n",
       "</pre>\n"
      ],
      "text/plain": [
       "\u001b[1m Non-trainable params: \u001b[0m\u001b[38;5;34m0\u001b[0m (0.00 B)\n"
      ]
     },
     "metadata": {},
     "output_type": "display_data"
    }
   ],
   "source": [
    "model.summary() #gives description of the model"
   ]
  },
  {
   "cell_type": "code",
   "execution_count": 16,
   "metadata": {},
   "outputs": [],
   "source": [
    "#we provide training constraints to it\n",
    "model.compile(optimizer=Adam(learning_rate=0.0001),loss='sparse_categorical_crossentropy',metrics=['accuracy'])"
   ]
  },
  {
   "cell_type": "code",
   "execution_count": null,
   "metadata": {},
   "outputs": [
    {
     "name": "stdout",
     "output_type": "stream",
     "text": [
      "Epoch 1/10\n",
      "168/168 - 1s - 3ms/step - accuracy: 0.5399 - loss: 0.6852 - val_accuracy: 0.6738 - val_loss: 0.6690\n",
      "Epoch 2/10\n",
      "168/168 - 0s - 1ms/step - accuracy: 0.6815 - loss: 0.6597 - val_accuracy: 0.7214 - val_loss: 0.6374\n",
      "Epoch 3/10\n",
      "168/168 - 0s - 696us/step - accuracy: 0.7244 - loss: 0.6323 - val_accuracy: 0.7762 - val_loss: 0.6075\n",
      "Epoch 4/10\n",
      "168/168 - 0s - 691us/step - accuracy: 0.7494 - loss: 0.6065 - val_accuracy: 0.8000 - val_loss: 0.5802\n",
      "Epoch 5/10\n",
      "168/168 - 0s - 867us/step - accuracy: 0.7726 - loss: 0.5814 - val_accuracy: 0.8238 - val_loss: 0.5531\n",
      "Epoch 6/10\n",
      "168/168 - 0s - 745us/step - accuracy: 0.7905 - loss: 0.5566 - val_accuracy: 0.8429 - val_loss: 0.5275\n",
      "Epoch 7/10\n",
      "168/168 - 0s - 801us/step - accuracy: 0.8208 - loss: 0.5322 - val_accuracy: 0.8500 - val_loss: 0.5011\n",
      "Epoch 8/10\n",
      "168/168 - 0s - 617us/step - accuracy: 0.8286 - loss: 0.5084 - val_accuracy: 0.8833 - val_loss: 0.4775\n",
      "Epoch 9/10\n",
      "168/168 - 0s - 716us/step - accuracy: 0.8440 - loss: 0.4853 - val_accuracy: 0.8976 - val_loss: 0.4541\n",
      "Epoch 10/10\n",
      "168/168 - 0s - 678us/step - accuracy: 0.8655 - loss: 0.4632 - val_accuracy: 0.9048 - val_loss: 0.4306\n"
     ]
    },
    {
     "data": {
      "text/plain": [
       "<keras.src.callbacks.history.History at 0x792545bc2ed0>"
      ]
     },
     "execution_count": 17,
     "metadata": {},
     "output_type": "execute_result"
    }
   ],
   "source": [
    "#train the models with hyperparameters required\n",
    "\n",
    "model.fit(x=scaled_train_samples,y=train_labels,validation_split=0.2,batch_size=10,epochs=10,shuffle=True,verbose=2) #increase epoch for more accuracy"
   ]
  },
  {
   "cell_type": "code",
   "execution_count": 19,
   "metadata": {},
   "outputs": [],
   "source": [
    "#generating test samples data\n",
    "test_samples =[]\n",
    "test_labels=[]\n",
    "\n",
    "for i in range(10):\n",
    "    random_younger = randint(13,64)\n",
    "    test_samples.append(random_younger)\n",
    "    test_labels.append(1)\n",
    "\n",
    "    random_older = randint(65,100)\n",
    "    test_samples.append(random_older)\n",
    "    test_labels.append(0)\n",
    "\n",
    "for i in range(200):\n",
    "    random_younger = randint(13,64)\n",
    "    test_samples.append(random_younger)\n",
    "    test_labels.append(0)\n",
    "\n",
    "    random_older = randint(65,100)\n",
    "    test_samples.append(random_older)\n",
    "    test_labels.append(1)"
   ]
  },
  {
   "cell_type": "code",
   "execution_count": 20,
   "metadata": {},
   "outputs": [],
   "source": [
    "test_labels = np.array(test_labels)\n",
    "test_samples = np.array(test_samples)\n",
    "test_labels,test_samples = shuffle(test_labels,test_samples)"
   ]
  },
  {
   "cell_type": "code",
   "execution_count": 21,
   "metadata": {},
   "outputs": [],
   "source": [
    "scaler = MinMaxScaler(feature_range=(0,1))\n",
    "scaled_test_samples = scaler.fit_transform(test_samples.reshape(-1,1))"
   ]
  },
  {
   "cell_type": "code",
   "execution_count": 22,
   "metadata": {},
   "outputs": [
    {
     "name": "stdout",
     "output_type": "stream",
     "text": [
      "[0.87356322] 1\n",
      "[0.48275862] 0\n",
      "[0.02298851] 0\n",
      "[0.66666667] 1\n",
      "[0.20689655] 0\n"
     ]
    }
   ],
   "source": [
    "#check the transformed dataset\n",
    "for i in range(len(train_samples[:5])):\n",
    "    print(scaled_train_samples[i],train_labels[i])"
   ]
  },
  {
   "cell_type": "code",
   "execution_count": 23,
   "metadata": {},
   "outputs": [],
   "source": [
    "#inferencing\n",
    "\n",
    "predictions = model.predict(x=scaled_test_samples,batch_size=10,verbose=0)\n",
    "# for i in predictions:\n",
    "#     print(i)\n",
    "#prediction are continous"
   ]
  },
  {
   "cell_type": "code",
   "execution_count": 24,
   "metadata": {},
   "outputs": [],
   "source": [
    "#passing the contnious range to a softmax function\n",
    "rounded_prediction = np.argmax(predictions,axis=-1)\n",
    "# for i in rounded_prediction:\n",
    "#     print(i)"
   ]
  },
  {
   "cell_type": "markdown",
   "metadata": {},
   "source": [
    "To visualise the output ( with a confusion matrix )"
   ]
  },
  {
   "cell_type": "code",
   "execution_count": 25,
   "metadata": {},
   "outputs": [],
   "source": [
    "from sklearn.metrics import confusion_matrix\n",
    "import itertools\n",
    "import matplotlib.pyplot as plt"
   ]
  },
  {
   "cell_type": "code",
   "execution_count": 26,
   "metadata": {},
   "outputs": [],
   "source": [
    "cm = confusion_matrix(y_true=test_labels,y_pred=rounded_prediction) #passing the true test labels vs predicted test labels"
   ]
  },
  {
   "cell_type": "code",
   "execution_count": 27,
   "metadata": {},
   "outputs": [],
   "source": [
    "def plot_confusion_matrix(cm,classes,normalize=False,tittle='confusion_matrix',cmap=plt.cm.Blues):\n",
    "    plt.imshow(cm , interpolation='nearest',cmap=cmap)\n",
    "    plt.title(tittle)\n",
    "    plt.colorbar()\n",
    "    tick_marks = np.arange(len(classes))\n",
    "    plt.xticks(tick_marks,classes,rotation=45)\n",
    "    plt.yticks(tick_marks,classes)\n",
    "\n",
    "    if normalize:\n",
    "        cm = cm.astype('float')/cm.sum(axis=1)[:,np.newaxis]\n",
    "        print(\"Normalized confusion matrix\")\n",
    "    else:\n",
    "        print(\"hi\")\n",
    "    print(cm)\n",
    "\n",
    "    thresh= cm.max()/2\n",
    "    for i,j in itertools.product(range(cm.shape[0],range(cm.shape[1]))):\n",
    "        plt.text(j,i,cm[i,j],\n",
    "                 horizontalalignment='center',\n",
    "                 color='white' if cm[i,j]> thresh else \"black\")\n",
    "    \n",
    "    plt.tight_layout()\n",
    "    plt.ylabel(\"True label\")\n",
    "    plt.xlabel(\"predicted label\")"
   ]
  },
  {
   "cell_type": "code",
   "execution_count": 28,
   "metadata": {},
   "outputs": [],
   "source": [
    "cm_plot_labels = ['no_side_effects','had_side_effects']\n",
    "# plot_confusion_matrix(cm=cm,classes=cm_plot_labels,tittle='confusion matrix')"
   ]
  },
  {
   "cell_type": "markdown",
   "metadata": {},
   "source": [
    "save and load the model"
   ]
  },
  {
   "cell_type": "code",
   "execution_count": 29,
   "metadata": {},
   "outputs": [],
   "source": [
    "#save the model\n",
    "import os\n",
    "\n",
    "model_path='models/first_model.h5'\n",
    "\n",
    "if os.path.isfile(model_path) is False:\n",
    "    model.save(model_path)"
   ]
  },
  {
   "cell_type": "code",
   "execution_count": 30,
   "metadata": {},
   "outputs": [
    {
     "name": "stderr",
     "output_type": "stream",
     "text": [
      "WARNING:absl:Compiled the loaded model, but the compiled metrics have yet to be built. `model.compile_metrics` will be empty until you train or evaluate the model.\n"
     ]
    }
   ],
   "source": [
    "#load the new model\n",
    "from tensorflow.keras.models import load_model\n",
    "\n",
    "new_model = load_model(model_path)"
   ]
  },
  {
   "cell_type": "code",
   "execution_count": 31,
   "metadata": {},
   "outputs": [
    {
     "data": {
      "text/html": [
       "<pre style=\"white-space:pre;overflow-x:auto;line-height:normal;font-family:Menlo,'DejaVu Sans Mono',consolas,'Courier New',monospace\"><span style=\"font-weight: bold\">Model: \"sequential\"</span>\n",
       "</pre>\n"
      ],
      "text/plain": [
       "\u001b[1mModel: \"sequential\"\u001b[0m\n"
      ]
     },
     "metadata": {},
     "output_type": "display_data"
    },
    {
     "data": {
      "text/html": [
       "<pre style=\"white-space:pre;overflow-x:auto;line-height:normal;font-family:Menlo,'DejaVu Sans Mono',consolas,'Courier New',monospace\">┏━━━━━━━━━━━━━━━━━━━━━━━━━━━━━━━━━┳━━━━━━━━━━━━━━━━━━━━━━━━┳━━━━━━━━━━━━━━━┓\n",
       "┃<span style=\"font-weight: bold\"> Layer (type)                    </span>┃<span style=\"font-weight: bold\"> Output Shape           </span>┃<span style=\"font-weight: bold\">       Param # </span>┃\n",
       "┡━━━━━━━━━━━━━━━━━━━━━━━━━━━━━━━━━╇━━━━━━━━━━━━━━━━━━━━━━━━╇━━━━━━━━━━━━━━━┩\n",
       "│ dense (<span style=\"color: #0087ff; text-decoration-color: #0087ff\">Dense</span>)                   │ (<span style=\"color: #00d7ff; text-decoration-color: #00d7ff\">None</span>, <span style=\"color: #00af00; text-decoration-color: #00af00\">16</span>)             │            <span style=\"color: #00af00; text-decoration-color: #00af00\">32</span> │\n",
       "├─────────────────────────────────┼────────────────────────┼───────────────┤\n",
       "│ dense_1 (<span style=\"color: #0087ff; text-decoration-color: #0087ff\">Dense</span>)                 │ (<span style=\"color: #00d7ff; text-decoration-color: #00d7ff\">None</span>, <span style=\"color: #00af00; text-decoration-color: #00af00\">32</span>)             │           <span style=\"color: #00af00; text-decoration-color: #00af00\">544</span> │\n",
       "├─────────────────────────────────┼────────────────────────┼───────────────┤\n",
       "│ dense_2 (<span style=\"color: #0087ff; text-decoration-color: #0087ff\">Dense</span>)                 │ (<span style=\"color: #00d7ff; text-decoration-color: #00d7ff\">None</span>, <span style=\"color: #00af00; text-decoration-color: #00af00\">2</span>)              │            <span style=\"color: #00af00; text-decoration-color: #00af00\">66</span> │\n",
       "└─────────────────────────────────┴────────────────────────┴───────────────┘\n",
       "</pre>\n"
      ],
      "text/plain": [
       "┏━━━━━━━━━━━━━━━━━━━━━━━━━━━━━━━━━┳━━━━━━━━━━━━━━━━━━━━━━━━┳━━━━━━━━━━━━━━━┓\n",
       "┃\u001b[1m \u001b[0m\u001b[1mLayer (type)                   \u001b[0m\u001b[1m \u001b[0m┃\u001b[1m \u001b[0m\u001b[1mOutput Shape          \u001b[0m\u001b[1m \u001b[0m┃\u001b[1m \u001b[0m\u001b[1m      Param #\u001b[0m\u001b[1m \u001b[0m┃\n",
       "┡━━━━━━━━━━━━━━━━━━━━━━━━━━━━━━━━━╇━━━━━━━━━━━━━━━━━━━━━━━━╇━━━━━━━━━━━━━━━┩\n",
       "│ dense (\u001b[38;5;33mDense\u001b[0m)                   │ (\u001b[38;5;45mNone\u001b[0m, \u001b[38;5;34m16\u001b[0m)             │            \u001b[38;5;34m32\u001b[0m │\n",
       "├─────────────────────────────────┼────────────────────────┼───────────────┤\n",
       "│ dense_1 (\u001b[38;5;33mDense\u001b[0m)                 │ (\u001b[38;5;45mNone\u001b[0m, \u001b[38;5;34m32\u001b[0m)             │           \u001b[38;5;34m544\u001b[0m │\n",
       "├─────────────────────────────────┼────────────────────────┼───────────────┤\n",
       "│ dense_2 (\u001b[38;5;33mDense\u001b[0m)                 │ (\u001b[38;5;45mNone\u001b[0m, \u001b[38;5;34m2\u001b[0m)              │            \u001b[38;5;34m66\u001b[0m │\n",
       "└─────────────────────────────────┴────────────────────────┴───────────────┘\n"
      ]
     },
     "metadata": {},
     "output_type": "display_data"
    },
    {
     "data": {
      "text/html": [
       "<pre style=\"white-space:pre;overflow-x:auto;line-height:normal;font-family:Menlo,'DejaVu Sans Mono',consolas,'Courier New',monospace\"><span style=\"font-weight: bold\"> Total params: </span><span style=\"color: #00af00; text-decoration-color: #00af00\">644</span> (2.52 KB)\n",
       "</pre>\n"
      ],
      "text/plain": [
       "\u001b[1m Total params: \u001b[0m\u001b[38;5;34m644\u001b[0m (2.52 KB)\n"
      ]
     },
     "metadata": {},
     "output_type": "display_data"
    },
    {
     "data": {
      "text/html": [
       "<pre style=\"white-space:pre;overflow-x:auto;line-height:normal;font-family:Menlo,'DejaVu Sans Mono',consolas,'Courier New',monospace\"><span style=\"font-weight: bold\"> Trainable params: </span><span style=\"color: #00af00; text-decoration-color: #00af00\">642</span> (2.51 KB)\n",
       "</pre>\n"
      ],
      "text/plain": [
       "\u001b[1m Trainable params: \u001b[0m\u001b[38;5;34m642\u001b[0m (2.51 KB)\n"
      ]
     },
     "metadata": {},
     "output_type": "display_data"
    },
    {
     "data": {
      "text/html": [
       "<pre style=\"white-space:pre;overflow-x:auto;line-height:normal;font-family:Menlo,'DejaVu Sans Mono',consolas,'Courier New',monospace\"><span style=\"font-weight: bold\"> Non-trainable params: </span><span style=\"color: #00af00; text-decoration-color: #00af00\">0</span> (0.00 B)\n",
       "</pre>\n"
      ],
      "text/plain": [
       "\u001b[1m Non-trainable params: \u001b[0m\u001b[38;5;34m0\u001b[0m (0.00 B)\n"
      ]
     },
     "metadata": {},
     "output_type": "display_data"
    },
    {
     "data": {
      "text/html": [
       "<pre style=\"white-space:pre;overflow-x:auto;line-height:normal;font-family:Menlo,'DejaVu Sans Mono',consolas,'Courier New',monospace\"><span style=\"font-weight: bold\"> Optimizer params: </span><span style=\"color: #00af00; text-decoration-color: #00af00\">2</span> (12.00 B)\n",
       "</pre>\n"
      ],
      "text/plain": [
       "\u001b[1m Optimizer params: \u001b[0m\u001b[38;5;34m2\u001b[0m (12.00 B)\n"
      ]
     },
     "metadata": {},
     "output_type": "display_data"
    }
   ],
   "source": [
    "new_model.summary()"
   ]
  },
  {
   "cell_type": "code",
   "execution_count": 32,
   "metadata": {},
   "outputs": [
    {
     "data": {
      "text/plain": [
       "[array([[ 0.6364078 ,  0.6509205 ,  0.7361111 , -0.17734098, -0.01843196,\n",
       "         -0.52328527,  0.4443189 , -0.2889442 , -0.11126271,  0.7394972 ,\n",
       "         -0.22579804, -0.09041468, -0.5490663 , -0.23677403, -0.5056898 ,\n",
       "         -0.24695054]], dtype=float32),\n",
       " array([-0.3650894 , -0.37344366, -0.14936982,  0.        ,  0.        ,\n",
       "         0.        ,  0.03092622,  0.        ,  0.        , -0.42430252,\n",
       "         0.        ,  0.27167365,  0.        ,  0.        ,  0.        ,\n",
       "         0.        ], dtype=float32),\n",
       " array([[ 1.39160797e-01, -3.25123477e+00, -3.32167006e+00,\n",
       "         -1.05341330e-01,  5.04430234e-02, -1.22189239e-01,\n",
       "         -3.63756371e+00, -3.64404917e+00, -3.48371601e+00,\n",
       "         -3.31051183e+00, -2.83412188e-01,  2.42073685e-01,\n",
       "          9.33309719e-02, -3.25703830e-01,  2.61275083e-01,\n",
       "          2.12503284e-01,  1.06692217e-01,  3.08004349e-01,\n",
       "         -2.67277956e+00,  3.25769186e-03,  2.28324920e-01,\n",
       "          1.59819990e-01, -3.09031558e+00, -1.77800938e-01,\n",
       "         -2.76190132e-01, -2.50858486e-01, -3.70262593e-01,\n",
       "         -3.66439271e+00, -2.69519120e-01, -1.88574940e-01,\n",
       "          3.13115448e-01, -1.14302590e-01],\n",
       "        [ 6.73961416e-02, -2.67500710e+00, -2.62893224e+00,\n",
       "         -4.72311080e-02, -2.41652712e-01, -1.08904876e-01,\n",
       "         -2.93237710e+00, -3.14970088e+00, -2.99988818e+00,\n",
       "         -3.33480263e+00,  2.69591898e-01, -1.35731727e-01,\n",
       "          3.78675312e-01,  6.53185248e-02,  3.22378039e-01,\n",
       "         -2.30909631e-01, -8.66458043e-02, -1.91725716e-01,\n",
       "         -2.48843193e+00, -2.33285919e-01, -1.03312969e-01,\n",
       "         -7.10756779e-02, -3.11245465e+00,  1.82483941e-01,\n",
       "         -1.55106023e-01,  2.08366856e-01, -4.35979187e-01,\n",
       "         -2.93225145e+00,  5.33873923e-02, -2.85840869e-01,\n",
       "          3.15771669e-01, -1.60163835e-01],\n",
       "        [-2.36517414e-02, -2.16113999e-01,  3.65895241e-01,\n",
       "         -2.62719154e-01,  2.13190287e-01,  5.21336436e-01,\n",
       "          1.83436826e-01,  1.65852830e-01,  1.33505926e-01,\n",
       "         -1.02046378e-01, -2.52865851e-02, -1.09022677e-01,\n",
       "          6.11382052e-02, -1.21058643e-01,  1.55840948e-01,\n",
       "          1.65197179e-01,  4.04391587e-01,  4.68977064e-01,\n",
       "          7.53261074e-02, -3.21965575e-01,  5.79605341e-01,\n",
       "         -8.78277123e-02, -2.23167881e-01, -7.93484449e-02,\n",
       "         -3.65961134e-01,  1.90554395e-01,  4.06428874e-02,\n",
       "         -1.47045314e-01,  4.09151345e-01, -9.02003646e-02,\n",
       "         -2.62581348e-01, -2.22358257e-01],\n",
       "        [ 3.17648977e-01, -1.46321967e-01, -2.92875648e-01,\n",
       "          8.40718448e-02, -3.20841879e-01,  2.51675457e-01,\n",
       "         -1.10078290e-01, -1.01865739e-01, -9.11760926e-02,\n",
       "         -2.68170953e-01,  1.39633089e-01, -8.77540410e-02,\n",
       "          2.47113138e-01, -3.33535224e-01,  7.91081190e-02,\n",
       "          1.59359664e-01,  1.89838678e-01,  3.08813423e-01,\n",
       "         -2.85938621e-01, -2.03009993e-01,  2.94036299e-01,\n",
       "          5.68314791e-02,  2.39701658e-01, -9.21569467e-02,\n",
       "         -2.55731642e-01, -2.55566776e-01, -1.68986768e-01,\n",
       "         -1.87228948e-01,  1.58081621e-01,  1.19471490e-01,\n",
       "         -1.97522804e-01, -1.53843999e-01],\n",
       "        [-1.71394289e-01, -3.09518516e-01,  4.49884832e-02,\n",
       "          5.38899601e-02,  9.63322818e-02, -1.11288756e-01,\n",
       "          3.29271406e-01,  9.09922719e-02, -2.14535639e-01,\n",
       "          5.98022342e-03,  2.41581947e-01,  5.31092286e-02,\n",
       "         -2.55506843e-01,  2.93220580e-02, -2.08527446e-02,\n",
       "         -2.37457454e-01,  2.36101061e-01,  3.00061673e-01,\n",
       "          3.03837866e-01, -1.19620174e-01, -1.86704382e-01,\n",
       "         -2.73550332e-01,  1.63112432e-01, -3.52879465e-02,\n",
       "          9.63246822e-02, -2.42033750e-01, -7.20629394e-02,\n",
       "          4.65369523e-02, -1.10938013e-01,  3.02901298e-01,\n",
       "          2.27167279e-01, -3.06314707e-01],\n",
       "        [ 2.23650843e-01,  3.44782144e-01, -3.28760177e-01,\n",
       "         -4.85503078e-02, -2.53965199e-01, -8.59749317e-02,\n",
       "          2.89248437e-01, -3.01701546e-01, -8.39813948e-02,\n",
       "          2.55385339e-02, -1.46962941e-01, -3.47974151e-01,\n",
       "         -2.26891488e-01, -7.66977370e-02,  2.62178779e-02,\n",
       "          2.53005922e-02,  2.47369319e-01,  2.91623563e-01,\n",
       "          1.72805488e-02, -2.16401309e-01, -5.99609613e-02,\n",
       "         -2.45871559e-01,  6.29284382e-02, -2.50918746e-01,\n",
       "          1.94293708e-01,  4.04960513e-02,  3.13378185e-01,\n",
       "         -3.47436875e-01, -1.66160151e-01, -1.93981379e-01,\n",
       "          2.95788050e-03,  2.96914369e-01],\n",
       "        [ 1.52655259e-01, -3.25491011e-01, -1.29165664e-01,\n",
       "         -3.00146759e-01, -2.75162935e-01, -9.31768119e-02,\n",
       "         -4.30071987e-02, -3.27339381e-01,  1.86958145e-02,\n",
       "         -1.49366349e-01, -1.35668933e-01, -2.83727527e-01,\n",
       "          4.38033670e-01, -3.00149530e-01,  2.39866912e-01,\n",
       "         -3.31186682e-01,  4.67744380e-01,  2.61617482e-01,\n",
       "         -6.50458336e-02,  5.45413196e-02,  5.36618054e-01,\n",
       "         -2.17332751e-01, -1.74782559e-01, -9.50387120e-03,\n",
       "          2.98192471e-01, -2.15447366e-01,  1.88726500e-01,\n",
       "          8.90235826e-02,  3.44261050e-01,  2.26404324e-01,\n",
       "         -1.36813775e-01,  8.95700455e-02],\n",
       "        [ 3.18115383e-01, -1.20717585e-01,  2.55057722e-01,\n",
       "          1.29950106e-01,  9.56611931e-02,  1.09373420e-01,\n",
       "          2.68876821e-01, -1.63447663e-01, -4.00217175e-02,\n",
       "         -2.45839104e-01, -2.26733088e-02, -2.69289523e-01,\n",
       "         -6.78515434e-02,  2.45686024e-01, -2.36233085e-01,\n",
       "         -1.88228577e-01,  1.22200221e-01,  2.90443987e-01,\n",
       "          1.75748318e-01, -3.14650834e-01, -4.74320650e-02,\n",
       "         -2.35266745e-01,  7.15875030e-02, -2.15586782e-01,\n",
       "          2.76415616e-01, -1.84724405e-01, -3.10944200e-01,\n",
       "          2.91888267e-01,  1.53906435e-01,  2.00438529e-01,\n",
       "          1.65924877e-01,  1.78134471e-01],\n",
       "        [ 2.24275917e-01, -2.93063313e-01,  1.32781953e-01,\n",
       "          7.22447634e-02, -4.18169200e-02, -2.05027893e-01,\n",
       "          3.04584593e-01, -1.77652240e-02, -1.34628072e-01,\n",
       "         -6.07454777e-03, -8.09703469e-02, -2.32937112e-01,\n",
       "          1.82223052e-01, -1.45353690e-01, -1.64664447e-01,\n",
       "          3.41292620e-02, -2.56855488e-02, -2.60824919e-01,\n",
       "          1.47986084e-01,  4.77417707e-02, -1.47389978e-01,\n",
       "          1.29023552e-01,  2.83679157e-01, -1.53433919e-01,\n",
       "          3.02258730e-02, -1.06549084e-01, -2.54645616e-01,\n",
       "         -2.70367742e-01,  3.43463153e-01,  2.44874954e-02,\n",
       "          3.13376039e-01,  1.55716509e-01],\n",
       "        [-1.94127724e-01, -2.39580297e+00, -2.63895822e+00,\n",
       "         -9.73258317e-02, -3.26865554e-01,  2.24435180e-01,\n",
       "         -2.23141694e+00, -2.84875536e+00, -2.75115824e+00,\n",
       "         -2.89017081e+00, -2.84939170e-01, -8.77347291e-02,\n",
       "          3.33949536e-01,  1.31007910e-01, -1.38558939e-01,\n",
       "         -8.27630684e-02, -1.04883574e-01, -2.71003127e-01,\n",
       "         -2.07802582e+00,  3.20643932e-01, -2.81899810e-01,\n",
       "         -2.59553939e-01, -2.36717010e+00, -1.86440289e-01,\n",
       "         -5.33915758e-01, -2.05078617e-01, -2.71605700e-01,\n",
       "         -2.66380119e+00,  2.90869117e-01, -3.59167486e-01,\n",
       "         -2.41966903e-01, -9.56965983e-02],\n",
       "        [ 2.05062717e-01,  6.78580403e-02,  1.11523509e-01,\n",
       "         -2.31942534e-03, -1.01649016e-01,  2.28755325e-01,\n",
       "         -3.34756136e-01, -1.79204091e-01, -2.96477199e-01,\n",
       "          8.64414871e-02,  9.46963727e-02, -5.25597334e-02,\n",
       "          2.83207029e-01, -1.30015269e-01, -1.74357459e-01,\n",
       "         -4.91428077e-02,  3.42784524e-02, -6.47494197e-03,\n",
       "         -1.58150062e-01,  1.24383539e-01, -2.49670759e-01,\n",
       "         -3.34828794e-02,  1.19517446e-02,  5.65647781e-02,\n",
       "         -2.37915501e-01, -2.89014995e-01, -3.50865841e-01,\n",
       "         -3.17501426e-02,  1.06137216e-01,  2.48754919e-02,\n",
       "         -6.52562082e-02, -3.30247432e-01],\n",
       "        [-1.18441194e-01,  2.34318674e-01,  1.53917940e-02,\n",
       "         -7.23088980e-02,  1.04935117e-01,  1.45431191e-01,\n",
       "          2.49127954e-01,  2.61395395e-01,  1.81672066e-01,\n",
       "          4.57850516e-01, -2.83109814e-01, -3.48680526e-01,\n",
       "          3.33699197e-01, -1.72976568e-01, -5.68302795e-02,\n",
       "         -3.11525047e-01,  1.41864419e-01,  4.90741730e-02,\n",
       "          1.88053802e-01, -1.38459817e-01, -3.30531359e-01,\n",
       "         -2.78333902e-01,  2.39887550e-01, -2.91645527e-04,\n",
       "          1.49051517e-01, -1.49619058e-01,  6.35134578e-01,\n",
       "          2.09372938e-01, -2.53077716e-01,  1.56408548e-01,\n",
       "          2.77208239e-02, -6.96984828e-02],\n",
       "        [-2.00235546e-01, -2.84195244e-02,  3.03038806e-01,\n",
       "          8.50170255e-02,  2.66437858e-01, -4.10332382e-02,\n",
       "         -6.53241575e-02,  2.74041742e-01, -2.78426975e-01,\n",
       "          1.94564193e-01,  1.70910627e-01, -3.08105588e-01,\n",
       "          4.22014594e-02, -1.27311796e-01,  8.13049674e-02,\n",
       "         -2.60357946e-01, -2.78686523e-01, -9.09387469e-02,\n",
       "          2.27094859e-01, -2.10627601e-01,  3.11263829e-01,\n",
       "          1.21091008e-01,  2.45396048e-01,  3.45955223e-01,\n",
       "          2.04913586e-01, -1.70840219e-01, -2.55188107e-01,\n",
       "         -4.87145782e-02,  2.97256082e-01,  1.78269774e-01,\n",
       "         -3.08656543e-01, -8.67348909e-03],\n",
       "        [-9.03004706e-02, -1.22574493e-01,  2.94890612e-01,\n",
       "         -2.57307440e-01, -3.41643989e-02,  9.03478265e-02,\n",
       "          1.94002301e-01, -1.84633628e-01,  2.93764561e-01,\n",
       "          5.28057814e-02, -2.47943759e-01, -5.73873222e-02,\n",
       "         -3.47452462e-01, -1.93693250e-01, -1.28476158e-01,\n",
       "         -1.92890868e-01,  3.93400490e-02, -3.21800381e-01,\n",
       "          2.55536109e-01, -9.64220464e-02, -1.51275992e-02,\n",
       "          1.07834905e-01, -8.11849535e-02, -1.08827963e-01,\n",
       "         -1.40848354e-01,  2.86366314e-01, -1.94768593e-01,\n",
       "         -2.93425173e-01,  2.88681358e-01, -2.88338125e-01,\n",
       "         -1.01918578e-01, -1.89779922e-01],\n",
       "        [-1.33924216e-01, -2.91890264e-01, -8.37262273e-02,\n",
       "          1.94491118e-01, -1.90854371e-02,  4.62301075e-02,\n",
       "         -6.01103306e-02,  4.71093059e-02, -2.43060365e-01,\n",
       "         -5.93962073e-02,  2.90582627e-01,  3.21213335e-01,\n",
       "          1.92123055e-02,  3.03573638e-01,  2.65604407e-01,\n",
       "         -2.44937748e-01,  3.49709779e-01, -1.93927586e-01,\n",
       "          4.96731699e-02, -2.29022861e-01, -1.47381634e-01,\n",
       "          3.35717410e-01, -2.56019592e-01, -3.03060770e-01,\n",
       "          2.92155713e-01, -8.28737617e-02, -2.57992744e-01,\n",
       "          3.17687362e-01, -2.72224307e-01, -6.59438968e-03,\n",
       "          5.40222228e-02,  2.86257118e-01],\n",
       "        [-1.57155395e-01,  5.60127497e-02,  9.23362374e-02,\n",
       "         -3.31821471e-01,  8.49614739e-02, -2.35906780e-01,\n",
       "          8.03556740e-02,  2.31727749e-01,  1.26518339e-01,\n",
       "         -1.56932354e-01,  1.61174864e-01,  1.46121681e-01,\n",
       "          2.45987803e-01, -8.86223316e-02,  3.28876883e-01,\n",
       "          3.25316340e-01,  4.75661755e-02,  2.34466940e-01,\n",
       "         -1.66398287e-02,  5.79238534e-02,  1.12846166e-01,\n",
       "         -3.00262839e-01, -1.14253536e-01,  3.03933293e-01,\n",
       "         -1.70305461e-01,  1.17139488e-01,  1.30560160e-01,\n",
       "          8.45117569e-02, -3.09530497e-01,  1.45370126e-01,\n",
       "         -1.36379361e-01, -8.06838274e-02]], dtype=float32),\n",
       " array([-0.03892175,  0.30619884,  0.12582685,  0.        , -0.02973426,\n",
       "        -0.11870207,  0.10796049,  0.21724407,  0.13077296,  0.1999192 ,\n",
       "         0.        ,  0.        ,  0.21952087,  0.        , -0.07856642,\n",
       "        -0.00294653, -0.23113671, -0.17282656,  0.12425172,  0.        ,\n",
       "        -0.17654571,  0.        ,  0.26746026,  0.        , -0.01870692,\n",
       "        -0.00514694,  0.62711006,  0.18809968, -0.11172774, -0.07912622,\n",
       "        -0.00926911,  0.        ], dtype=float32),\n",
       " array([[ 0.13227808, -0.37957963],\n",
       "        [ 1.1991615 , -0.8983981 ],\n",
       "        [ 1.5427486 , -1.3600843 ],\n",
       "        [ 0.3649762 ,  0.30689302],\n",
       "        [ 0.19288449,  0.3946588 ],\n",
       "        [-0.3821598 ,  0.29200915],\n",
       "        [ 1.3705708 , -1.3700655 ],\n",
       "        [ 1.3699726 , -1.5976027 ],\n",
       "        [ 1.7512754 , -1.6566811 ],\n",
       "        [ 1.3295091 , -1.3974652 ],\n",
       "        [-0.13896221, -0.06047681],\n",
       "        [ 0.18919489,  0.12478766],\n",
       "        [-0.11306569,  0.65682477],\n",
       "        [ 0.02202415, -0.25627214],\n",
       "        [-0.13094455,  0.450584  ],\n",
       "        [-0.3179604 , -0.17010872],\n",
       "        [-0.34015423,  0.0866082 ],\n",
       "        [-0.10387099,  0.537668  ],\n",
       "        [ 0.68666625, -1.0165231 ],\n",
       "        [ 0.08034322, -0.15075517],\n",
       "        [-0.23137458,  0.24553446],\n",
       "        [ 0.0690951 ,  0.3170493 ],\n",
       "        [ 1.0217605 , -1.4261453 ],\n",
       "        [-0.3437054 ,  0.22775546],\n",
       "        [-0.08507452,  0.62549603],\n",
       "        [-0.17797218, -0.08210681],\n",
       "        [-0.5571428 ,  0.7236558 ],\n",
       "        [ 1.715065  , -1.5356299 ],\n",
       "        [-0.52123314,  0.41862226],\n",
       "        [-0.2933791 , -0.22475356],\n",
       "        [ 0.07945881,  0.37662193],\n",
       "        [-0.21232377, -0.16607791]], dtype=float32),\n",
       " array([-0.52062184,  0.52062184], dtype=float32)]"
      ]
     },
     "execution_count": 32,
     "metadata": {},
     "output_type": "execute_result"
    }
   ],
   "source": [
    "new_model.get_weights() #get model weights"
   ]
  },
  {
   "cell_type": "code",
   "execution_count": 33,
   "metadata": {},
   "outputs": [
    {
     "data": {
      "text/plain": [
       "<keras.src.optimizers.adam.Adam at 0x79254457bad0>"
      ]
     },
     "execution_count": 33,
     "metadata": {},
     "output_type": "execute_result"
    }
   ],
   "source": [
    "new_model.optimizer"
   ]
  }
 ],
 "metadata": {
  "kernelspec": {
   "display_name": "Python 3",
   "language": "python",
   "name": "python3"
  },
  "language_info": {
   "codemirror_mode": {
    "name": "ipython",
    "version": 3
   },
   "file_extension": ".py",
   "mimetype": "text/x-python",
   "name": "python",
   "nbconvert_exporter": "python",
   "pygments_lexer": "ipython3",
   "version": "3.11.6"
  }
 },
 "nbformat": 4,
 "nbformat_minor": 2
}
